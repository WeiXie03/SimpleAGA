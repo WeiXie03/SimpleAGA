{
 "cells": [
  {
   "attachments": {},
   "cell_type": "markdown",
   "metadata": {},
   "source": [
    "Oh, I guess have to generalize with Bayes Net.\n",
    "Implement missing indicators as Bernoulli nodes, manually set P to 0 or 1."
   ]
  },
  {
   "cell_type": "code",
   "execution_count": 2,
   "metadata": {},
   "outputs": [],
   "source": [
    "import numpy as np\n",
    "import torch\n",
    "from pomegranate.bayesian_network import BayesianNetwork\n",
    "from pomegranate.distributions import Normal, Bernoulli"
   ]
  },
  {
   "attachments": {},
   "cell_type": "markdown",
   "metadata": {},
   "source": [
    "### Set up the example"
   ]
  },
  {
   "cell_type": "code",
   "execution_count": 3,
   "metadata": {},
   "outputs": [],
   "source": [
    "N_TRACKS = 3\n",
    "# e.g. 0 = dead/quiescent, 1 = promoter, 2 = other actives\n",
    "states = [0, 1, 2]"
   ]
  },
  {
   "attachments": {},
   "cell_type": "markdown",
   "metadata": {},
   "source": [
    "Generate some sample observation data assuming each state's emission ~ Normal.\n",
    "\n",
    "Although in principle, a separate emission distribution for every state-track pair, just use a multivariate Normal, of <# of tracks> dimensions, per state."
   ]
  },
  {
   "cell_type": "code",
   "execution_count": 4,
   "metadata": {},
   "outputs": [
    {
     "data": {
      "text/plain": [
       "[Normal(loc: torch.Size([3]), scale: torch.Size([3])),\n",
       " Normal(loc: torch.Size([3]), scale: torch.Size([3])),\n",
       " Normal(loc: torch.Size([3]), scale: torch.Size([3]))]"
      ]
     },
     "execution_count": 4,
     "metadata": {},
     "output_type": "execute_result"
    }
   ],
   "source": [
    "MEANS = (0.3, 10.0, 6.0)\n",
    "STDEVS = (0.05, 1.0, 0.5)\n",
    "true_emitters = []\n",
    "for mean, stdev in zip(MEANS, STDEVS):\n",
    "    multivar_mean = torch.full([N_TRACKS], mean)\n",
    "    multivar_stdev = torch.full([N_TRACKS], stdev)\n",
    "    true_emitters.append(torch.distributions.Normal(multivar_mean, multivar_stdev))\n",
    "true_emitters"
   ]
  },
  {
   "cell_type": "code",
   "execution_count": 5,
   "metadata": {},
   "outputs": [
    {
     "name": "stdout",
     "output_type": "stream",
     "text": [
      "Emitter 0:\n",
      "\ttensor([0.3000, 0.3000, 0.3000])\n",
      "\ttensor([0.0500, 0.0500, 0.0500])\n",
      "Emitter 1:\n",
      "\ttensor([10., 10., 10.])\n",
      "\ttensor([1., 1., 1.])\n",
      "Emitter 2:\n",
      "\ttensor([6., 6., 6.])\n",
      "\ttensor([0.5000, 0.5000, 0.5000])\n"
     ]
    }
   ],
   "source": [
    "for i, emitter in enumerate(true_emitters):\n",
    "    print(f\"Emitter {i}:\\n\\t{emitter.loc}\\n\\t{emitter.scale}\")"
   ]
  },
  {
   "cell_type": "code",
   "execution_count": 6,
   "metadata": {},
   "outputs": [
    {
     "data": {
      "text/plain": [
       "1.0"
      ]
     },
     "execution_count": 6,
     "metadata": {},
     "output_type": "execute_result"
    }
   ],
   "source": [
    "TRUE_START_PROBS = [0.8, 0.1, 0.1]\n",
    "sum(TRUE_START_PROBS)"
   ]
  },
  {
   "cell_type": "code",
   "execution_count": 7,
   "metadata": {},
   "outputs": [],
   "source": [
    "TRUE_TRANS_PROBS = torch.tensor([\n",
    "    [0.8, 0.1, 0.1],\n",
    "    [0.1, 0.6, 0.3],\n",
    "    [0.3, 0.1, 0.6]\n",
    "])"
   ]
  },
  {
   "cell_type": "code",
   "execution_count": 8,
   "metadata": {},
   "outputs": [
    {
     "data": {
      "text/plain": [
       "array([1, 2, 0, 0, 0, 0, 0, 0, 0, 0, 2, 0, 0, 0, 2, 0, 0, 0, 2, 0])"
      ]
     },
     "execution_count": 8,
     "metadata": {},
     "output_type": "execute_result"
    }
   ],
   "source": [
    "SEQ_LEN = 20\n",
    "gen_seq = np.random.choice(states, size=SEQ_LEN, p=TRUE_START_PROBS)\n",
    "gen_seq"
   ]
  },
  {
   "attachments": {},
   "cell_type": "markdown",
   "metadata": {},
   "source": [
    "Transpose into column vector."
   ]
  },
  {
   "cell_type": "code",
   "execution_count": 9,
   "metadata": {},
   "outputs": [
    {
     "data": {
      "text/plain": [
       "tensor([[5.5303],\n",
       "        [5.7641],\n",
       "        [6.8711]])"
      ]
     },
     "execution_count": 9,
     "metadata": {},
     "output_type": "execute_result"
    }
   ],
   "source": [
    "true_emitters[2].sample().reshape((-1, 1))"
   ]
  },
  {
   "cell_type": "code",
   "execution_count": 10,
   "metadata": {},
   "outputs": [
    {
     "data": {
      "text/plain": [
       "tensor([[9.1227, 9.2222, 9.9002],\n",
       "        [5.9096, 7.6977, 6.5035],\n",
       "        [0.2859, 0.2903, 0.2718],\n",
       "        [0.2971, 0.2673, 0.2488],\n",
       "        [0.4261, 0.2477, 0.4275],\n",
       "        [0.3762, 0.3033, 0.3200],\n",
       "        [0.2984, 0.2729, 0.2782],\n",
       "        [0.3618, 0.3337, 0.3212],\n",
       "        [0.3731, 0.3245, 0.3022],\n",
       "        [0.3222, 0.2915, 0.2834],\n",
       "        [5.9165, 6.4204, 5.6979],\n",
       "        [0.2526, 0.3527, 0.4575],\n",
       "        [0.2845, 0.2894, 0.2687],\n",
       "        [0.2558, 0.3178, 0.2374],\n",
       "        [5.5680, 6.1009, 5.5575],\n",
       "        [0.2595, 0.3433, 0.2973],\n",
       "        [0.3392, 0.3478, 0.2443],\n",
       "        [0.2927, 0.2308, 0.2953],\n",
       "        [5.5657, 6.3600, 6.7604],\n",
       "        [0.3359, 0.2903, 0.2822]])"
      ]
     },
     "execution_count": 10,
     "metadata": {},
     "output_type": "execute_result"
    }
   ],
   "source": [
    "observations = torch.stack([true_emitters[st_id].sample() for st_id in gen_seq])\n",
    "observations"
   ]
  },
  {
   "attachments": {},
   "cell_type": "markdown",
   "metadata": {},
   "source": [
    "# Initialize model"
   ]
  },
  {
   "cell_type": "code",
   "execution_count": null,
   "metadata": {},
   "outputs": [],
   "source": []
  }
 ],
 "metadata": {
  "kernelspec": {
   "display_name": "SAGAconf",
   "language": "python",
   "name": "python3"
  },
  "language_info": {
   "codemirror_mode": {
    "name": "ipython",
    "version": 3
   },
   "file_extension": ".py",
   "mimetype": "text/x-python",
   "name": "python",
   "nbconvert_exporter": "python",
   "pygments_lexer": "ipython3",
   "version": "3.9.15"
  },
  "orig_nbformat": 4
 },
 "nbformat": 4,
 "nbformat_minor": 2
}
