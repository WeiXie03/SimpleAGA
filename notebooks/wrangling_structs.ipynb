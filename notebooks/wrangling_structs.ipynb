{
 "cells": [
  {
   "cell_type": "code",
   "execution_count": 2,
   "metadata": {},
   "outputs": [
    {
     "name": "stderr",
     "output_type": "stream",
     "text": [
      "/home/tom/miniconda3/envs/SAGAconf/lib/python3.9/site-packages/tqdm/auto.py:21: TqdmWarning: IProgress not found. Please update jupyter and ipywidgets. See https://ipywidgets.readthedocs.io/en/stable/user_install.html\n",
      "  from .autonotebook import tqdm as notebook_tqdm\n"
     ]
    },
    {
     "data": {
      "text/plain": [
       "tensor([[ 8.3899e-03,  4.5668e-41,  2.0777e+31],\n",
       "        [ 1.7652e+22,  1.2849e-02,  4.5668e-41],\n",
       "        [ 8.3901e-03,  4.5668e-41, -1.5919e+23],\n",
       "        [ 1.5067e+05,  1.2860e-02,  4.5668e-41],\n",
       "        [ 8.3902e-03,  4.5668e-41,  1.8226e+01],\n",
       "        [ 1.7361e+19,  1.2860e-02,  4.5668e-41],\n",
       "        [ 8.3903e-03,  4.5668e-41,  1.6511e-35],\n",
       "        [-4.7173e+14,  1.2850e-02,  4.5668e-41],\n",
       "        [ 8.3455e-03,  4.5668e-41,  6.0749e-37],\n",
       "        [ 5.1106e+25,  1.2861e-02,  4.5668e-41]])"
      ]
     },
     "execution_count": 2,
     "metadata": {},
     "output_type": "execute_result"
    }
   ],
   "source": [
    "import torch\n",
    "big_tab = torch.empty((10, 3))\n",
    "big_tab"
   ]
  },
  {
   "cell_type": "code",
   "execution_count": 3,
   "metadata": {},
   "outputs": [
    {
     "data": {
      "text/plain": [
       "10"
      ]
     },
     "execution_count": 3,
     "metadata": {},
     "output_type": "execute_result"
    }
   ],
   "source": [
    "big_tab.shape[0]"
   ]
  },
  {
   "cell_type": "code",
   "execution_count": 4,
   "metadata": {},
   "outputs": [
    {
     "name": "stdout",
     "output_type": "stream",
     "text": [
      "tensor([[ 1.,  0., -1.],\n",
      "        [ 2.,  1.,  0.],\n",
      "        [ 3.,  2.,  1.],\n",
      "        [ 4.,  3.,  2.],\n",
      "        [ 5.,  4.,  3.],\n",
      "        [ 6.,  5.,  4.],\n",
      "        [ 7.,  6.,  5.],\n",
      "        [ 8.,  7.,  6.],\n",
      "        [ 9.,  8.,  7.],\n",
      "        [10.,  9.,  8.]])\n"
     ]
    }
   ],
   "source": [
    "\n",
    "for i in range(big_tab.shape[0]):\n",
    "    big_tab[i] = torch.tensor([i+1, i, i-1])\n",
    "print(big_tab)"
   ]
  },
  {
   "cell_type": "code",
   "execution_count": 5,
   "metadata": {},
   "outputs": [
    {
     "name": "stdout",
     "output_type": "stream",
     "text": [
      "tensor([[ 1.,  0., -1.],\n",
      "        [ 2.,  1.,  0.],\n",
      "        [ 3.,  2.,  1.],\n",
      "        [ 4.,  3.,  2.],\n",
      "        [ 5.,  4.,  3.],\n",
      "        [ 6.,  5.,  4.],\n",
      "        [ 7.,  6.,  5.],\n",
      "        [ 8.,  7.,  6.],\n",
      "        [ 9.,  8.,  7.],\n",
      "        [10.,  9.,  8.]])\n"
     ]
    }
   ],
   "source": [
    "\n",
    "\n",
    "for i in range(big_tab.shape[0]):\n",
    "    big_tab[i] = torch.tensor([i+1, i, i-1])\n",
    "print(big_tab)"
   ]
  },
  {
   "cell_type": "code",
   "execution_count": 6,
   "metadata": {},
   "outputs": [
    {
     "data": {
      "text/plain": [
       "array([5.5, 4.5, 3.5], dtype=float32)"
      ]
     },
     "execution_count": 6,
     "metadata": {},
     "output_type": "execute_result"
    }
   ],
   "source": [
    "tab_arr = big_tab.numpy()\n",
    "tab_arr.mean(axis=0)"
   ]
  },
  {
   "cell_type": "code",
   "execution_count": 7,
   "metadata": {},
   "outputs": [
    {
     "data": {
      "text/plain": [
       "array([0., 1., 2., 3., 4., 5., 6., 7., 8., 9.], dtype=float32)"
      ]
     },
     "execution_count": 7,
     "metadata": {},
     "output_type": "execute_result"
    }
   ],
   "source": [
    "tab_arr.mean(axis=1)"
   ]
  },
  {
   "cell_type": "code",
   "execution_count": 3,
   "metadata": {},
   "outputs": [],
   "source": [
    "\n",
    "import numpy as np\n",
    "from pyBedGraph import BedGraph\n",
    "import pyBigWig\n",
    "from pathlib import Path"
   ]
  },
  {
   "cell_type": "code",
   "execution_count": 2,
   "metadata": {},
   "outputs": [
    {
     "ename": "NameError",
     "evalue": "name 'Path' is not defined",
     "output_type": "error",
     "traceback": [
      "\u001b[0;31m---------------------------------------------------------------------------\u001b[0m",
      "\u001b[0;31mNameError\u001b[0m                                 Traceback (most recent call last)",
      "Cell \u001b[0;32mIn[2], line 1\u001b[0m\n\u001b[0;32m----> 1\u001b[0m DATA_DIR \u001b[39m=\u001b[39m Path()\u001b[39m.\u001b[39mresolve()\u001b[39m.\u001b[39mparent\u001b[39m.\u001b[39mparent \u001b[39m/\u001b[39m \u001b[39m\"\u001b[39m\u001b[39mdata\u001b[39m\u001b[39m\"\u001b[39m\n\u001b[1;32m      2\u001b[0m SIZES_FILE_PATH \u001b[39m=\u001b[39m DATA_DIR \u001b[39m/\u001b[39m \u001b[39m\"\u001b[39m\u001b[39mhg38.chrom.sizes\u001b[39m\u001b[39m\"\u001b[39m\n",
      "\u001b[0;31mNameError\u001b[0m: name 'Path' is not defined"
     ]
    }
   ],
   "source": [
    "DATA_DIR = Path().resolve().parent.parent / \"data\"\n",
    "SIZES_FILE_PATH = DATA_DIR / \"hg38.chrom.sizes\""
   ]
  },
  {
   "cell_type": "code",
   "execution_count": 10,
   "metadata": {},
   "outputs": [
    {
     "name": "stdout",
     "output_type": "stream",
     "text": [
      "True\n",
      "<class 'pyBigWig.bigWigFile'>\n",
      "48\n"
     ]
    }
   ],
   "source": [
    "import sys\n",
    "BW_FILE_PATH = DATA_DIR / \"CD14-positive monocyte\" / \"H2AFZ\" / \"ENCFF834IMH.bigWig\"\n",
    "print(BW_FILE_PATH.is_file())\n",
    "bw_k27 = pyBigWig.open(str(BW_FILE_PATH.absolute()))\n",
    "print(type(bw_k27))\n",
    "print(sys.getsizeof(bw_k27))"
   ]
  },
  {
   "cell_type": "code",
   "execution_count": 14,
   "metadata": {},
   "outputs": [
    {
     "data": {
      "text/plain": [
       "561367.9"
      ]
     },
     "execution_count": 14,
     "metadata": {},
     "output_type": "execute_result"
    }
   ],
   "source": [
    "bw_k27.values(\"chr4\", 0, 1000000, numpy=True).sum()"
   ]
  },
  {
   "cell_type": "code",
   "execution_count": 1,
   "metadata": {},
   "outputs": [
    {
     "ename": "NameError",
     "evalue": "name 'SIZES_FILE_PATH' is not defined",
     "output_type": "error",
     "traceback": [
      "\u001b[0;31m---------------------------------------------------------------------------\u001b[0m",
      "\u001b[0;31mNameError\u001b[0m                                 Traceback (most recent call last)",
      "Cell \u001b[0;32mIn[1], line 2\u001b[0m\n\u001b[1;32m      1\u001b[0m \u001b[39mimport\u001b[39;00m \u001b[39mpandas\u001b[39;00m \u001b[39mas\u001b[39;00m \u001b[39mpd\u001b[39;00m\n\u001b[0;32m----> 2\u001b[0m chrom_sizes \u001b[39m=\u001b[39m pd\u001b[39m.\u001b[39mread_csv(SIZES_FILE_PATH, sep\u001b[39m=\u001b[39m\u001b[39m\"\u001b[39m\u001b[39m\\t\u001b[39;00m\u001b[39m\"\u001b[39m, header\u001b[39m=\u001b[39m\u001b[39mNone\u001b[39;00m, names\u001b[39m=\u001b[39m[\u001b[39m\"\u001b[39m\u001b[39mname\u001b[39m\u001b[39m\"\u001b[39m, \u001b[39m\"\u001b[39m\u001b[39msize\u001b[39m\u001b[39m\"\u001b[39m])\n\u001b[1;32m      3\u001b[0m \u001b[39mfor\u001b[39;00m row \u001b[39min\u001b[39;00m chrom_sizes\u001b[39m.\u001b[39mitertuples():\n\u001b[1;32m      4\u001b[0m     \u001b[39mprint\u001b[39m(row[\u001b[39m1\u001b[39m:])\n",
      "\u001b[0;31mNameError\u001b[0m: name 'SIZES_FILE_PATH' is not defined"
     ]
    }
   ],
   "source": [
    "import pandas as pd\n",
    "chrom_sizes = pd.read_csv(SIZES_FILE_PATH, sep=\"\\t\", header=None, names=[\"name\", \"size\"])\n",
    "for row in chrom_sizes.itertuples():\n",
    "    print(row[1:])"
   ]
  },
  {
   "cell_type": "code",
   "execution_count": 2,
   "metadata": {},
   "outputs": [
    {
     "data": {
      "text/html": [
       "<div>\n",
       "<style scoped>\n",
       "    .dataframe tbody tr th:only-of-type {\n",
       "        vertical-align: middle;\n",
       "    }\n",
       "\n",
       "    .dataframe tbody tr th {\n",
       "        vertical-align: top;\n",
       "    }\n",
       "\n",
       "    .dataframe thead th {\n",
       "        text-align: right;\n",
       "    }\n",
       "</style>\n",
       "<table border=\"1\" class=\"dataframe\">\n",
       "  <thead>\n",
       "    <tr style=\"text-align: right;\">\n",
       "      <th></th>\n",
       "      <th>name</th>\n",
       "      <th>price</th>\n",
       "      <th>weight</th>\n",
       "    </tr>\n",
       "  </thead>\n",
       "  <tbody>\n",
       "    <tr>\n",
       "      <th>0</th>\n",
       "      <td>Geave</td>\n",
       "      <td>0.086682</td>\n",
       "      <td>0.123337</td>\n",
       "    </tr>\n",
       "    <tr>\n",
       "      <th>1</th>\n",
       "      <td>Poate</td>\n",
       "      <td>0.533877</td>\n",
       "      <td>0.317365</td>\n",
       "    </tr>\n",
       "    <tr>\n",
       "      <th>2</th>\n",
       "      <td>Boeao</td>\n",
       "      <td>0.660487</td>\n",
       "      <td>0.684505</td>\n",
       "    </tr>\n",
       "    <tr>\n",
       "      <th>3</th>\n",
       "      <td>Ozvu</td>\n",
       "      <td>0.409787</td>\n",
       "      <td>0.460001</td>\n",
       "    </tr>\n",
       "  </tbody>\n",
       "</table>\n",
       "</div>"
      ],
      "text/plain": [
       "    name     price    weight\n",
       "0  Geave  0.086682  0.123337\n",
       "1  Poate  0.533877  0.317365\n",
       "2  Boeao  0.660487  0.684505\n",
       "3   Ozvu  0.409787  0.460001"
      ]
     },
     "execution_count": 2,
     "metadata": {},
     "output_type": "execute_result"
    }
   ],
   "source": [
    "import pandas as pd\n",
    "import numpy as np\n",
    "import itertools\n",
    "rng = np.random.default_rng()\n",
    "groceries = pd.DataFrame({\n",
    "    \"name\": [\"Geave\", \"Poate\", \"Boeao\", \"Ozvu\"],\n",
    "    \"price\": rng.random([4]),\n",
    "    \"weight\": rng.random([4])\n",
    "})\n",
    "groceries"
   ]
  },
  {
   "cell_type": "code",
   "execution_count": 8,
   "metadata": {},
   "outputs": [
    {
     "data": {
      "text/plain": [
       "[(0, 0.7946435796688112),\n",
       " (1, 0.1599772213973336),\n",
       " (2, 0.28813835296823853),\n",
       " (3, 0.9569526912144912)]"
      ]
     },
     "execution_count": 8,
     "metadata": {},
     "output_type": "execute_result"
    }
   ],
   "source": [
    "list(groceries[\"price\"].to_dict().items())"
   ]
  },
  {
   "cell_type": "code",
   "execution_count": 5,
   "metadata": {},
   "outputs": [
    {
     "data": {
      "text/plain": [
       "'Boeao'"
      ]
     },
     "execution_count": 5,
     "metadata": {},
     "output_type": "execute_result"
    }
   ],
   "source": [
    "groceries[\"name\"][2]"
   ]
  },
  {
   "cell_type": "code",
   "execution_count": null,
   "metadata": {},
   "outputs": [],
   "source": []
  }
 ],
 "metadata": {
  "kernelspec": {
   "display_name": "SAGAconf",
   "language": "python",
   "name": "python3"
  },
  "language_info": {
   "codemirror_mode": {
    "name": "ipython",
    "version": 3
   },
   "file_extension": ".py",
   "mimetype": "text/x-python",
   "name": "python",
   "nbconvert_exporter": "python",
   "pygments_lexer": "ipython3",
   "version": "3.9.15"
  },
  "orig_nbformat": 4
 },
 "nbformat": 4,
 "nbformat_minor": 2
}
