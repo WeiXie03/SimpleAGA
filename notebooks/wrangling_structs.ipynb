{
 "cells": [
  {
   "cell_type": "code",
   "execution_count": 2,
   "metadata": {},
   "outputs": [
    {
     "name": "stderr",
     "output_type": "stream",
     "text": [
      "/home/tom/miniconda3/envs/SAGAconf/lib/python3.9/site-packages/tqdm/auto.py:21: TqdmWarning: IProgress not found. Please update jupyter and ipywidgets. See https://ipywidgets.readthedocs.io/en/stable/user_install.html\n",
      "  from .autonotebook import tqdm as notebook_tqdm\n"
     ]
    },
    {
     "data": {
      "text/plain": [
       "tensor([[ 8.3899e-03,  4.5668e-41,  2.0777e+31],\n",
       "        [ 1.7652e+22,  1.2849e-02,  4.5668e-41],\n",
       "        [ 8.3901e-03,  4.5668e-41, -1.5919e+23],\n",
       "        [ 1.5067e+05,  1.2860e-02,  4.5668e-41],\n",
       "        [ 8.3902e-03,  4.5668e-41,  1.8226e+01],\n",
       "        [ 1.7361e+19,  1.2860e-02,  4.5668e-41],\n",
       "        [ 8.3903e-03,  4.5668e-41,  1.6511e-35],\n",
       "        [-4.7173e+14,  1.2850e-02,  4.5668e-41],\n",
       "        [ 8.3455e-03,  4.5668e-41,  6.0749e-37],\n",
       "        [ 5.1106e+25,  1.2861e-02,  4.5668e-41]])"
      ]
     },
     "execution_count": 2,
     "metadata": {},
     "output_type": "execute_result"
    }
   ],
   "source": [
    "import torch\n",
    "big_tab = torch.empty((10, 3))\n",
    "big_tab"
   ]
  },
  {
   "cell_type": "code",
   "execution_count": 3,
   "metadata": {},
   "outputs": [
    {
     "data": {
      "text/plain": [
       "10"
      ]
     },
     "execution_count": 3,
     "metadata": {},
     "output_type": "execute_result"
    }
   ],
   "source": [
    "big_tab.shape[0]"
   ]
  },
  {
   "cell_type": "code",
   "execution_count": 4,
   "metadata": {},
   "outputs": [
    {
     "name": "stdout",
     "output_type": "stream",
     "text": [
      "tensor([[ 1.,  0., -1.],\n",
      "        [ 2.,  1.,  0.],\n",
      "        [ 3.,  2.,  1.],\n",
      "        [ 4.,  3.,  2.],\n",
      "        [ 5.,  4.,  3.],\n",
      "        [ 6.,  5.,  4.],\n",
      "        [ 7.,  6.,  5.],\n",
      "        [ 8.,  7.,  6.],\n",
      "        [ 9.,  8.,  7.],\n",
      "        [10.,  9.,  8.]])\n"
     ]
    }
   ],
   "source": [
    "\n",
    "for i in range(big_tab.shape[0]):\n",
    "    big_tab[i] = torch.tensor([i+1, i, i-1])\n",
    "print(big_tab)"
   ]
  },
  {
   "cell_type": "code",
   "execution_count": 5,
   "metadata": {},
   "outputs": [
    {
     "name": "stdout",
     "output_type": "stream",
     "text": [
      "tensor([[ 1.,  0., -1.],\n",
      "        [ 2.,  1.,  0.],\n",
      "        [ 3.,  2.,  1.],\n",
      "        [ 4.,  3.,  2.],\n",
      "        [ 5.,  4.,  3.],\n",
      "        [ 6.,  5.,  4.],\n",
      "        [ 7.,  6.,  5.],\n",
      "        [ 8.,  7.,  6.],\n",
      "        [ 9.,  8.,  7.],\n",
      "        [10.,  9.,  8.]])\n"
     ]
    }
   ],
   "source": [
    "\n",
    "\n",
    "for i in range(big_tab.shape[0]):\n",
    "    big_tab[i] = torch.tensor([i+1, i, i-1])\n",
    "print(big_tab)"
   ]
  },
  {
   "cell_type": "code",
   "execution_count": 6,
   "metadata": {},
   "outputs": [
    {
     "data": {
      "text/plain": [
       "array([5.5, 4.5, 3.5], dtype=float32)"
      ]
     },
     "execution_count": 6,
     "metadata": {},
     "output_type": "execute_result"
    }
   ],
   "source": [
    "tab_arr = big_tab.numpy()\n",
    "tab_arr.mean(axis=0)"
   ]
  },
  {
   "cell_type": "code",
   "execution_count": 7,
   "metadata": {},
   "outputs": [
    {
     "data": {
      "text/plain": [
       "array([0., 1., 2., 3., 4., 5., 6., 7., 8., 9.], dtype=float32)"
      ]
     },
     "execution_count": 7,
     "metadata": {},
     "output_type": "execute_result"
    }
   ],
   "source": [
    "tab_arr.mean(axis=1)"
   ]
  },
  {
   "cell_type": "code",
   "execution_count": 8,
   "metadata": {},
   "outputs": [],
   "source": [
    "\n",
    "import numpy as np\n",
    "from pyBedGraph import BedGraph\n",
    "import pyBigWig\n",
    "from pathlib import Path"
   ]
  },
  {
   "cell_type": "code",
   "execution_count": 9,
   "metadata": {},
   "outputs": [],
   "source": [
    "DATA_DIR = Path().resolve().parent.parent / \"data\"\n",
    "SIZES_FILE_PATH = DATA_DIR / \"hg38.chrom.sizes\""
   ]
  },
  {
   "cell_type": "code",
   "execution_count": 10,
   "metadata": {},
   "outputs": [
    {
     "name": "stdout",
     "output_type": "stream",
     "text": [
      "True\n",
      "<class 'pyBigWig.bigWigFile'>\n",
      "48\n"
     ]
    }
   ],
   "source": [
    "import sys\n",
    "BW_FILE_PATH = DATA_DIR / \"CD14-positive monocyte\" / \"H2AFZ\" / \"ENCFF834IMH.bigWig\"\n",
    "print(BW_FILE_PATH.is_file())\n",
    "bw_k27 = pyBigWig.open(str(BW_FILE_PATH.absolute()))\n",
    "print(type(bw_k27))\n",
    "print(sys.getsizeof(bw_k27))"
   ]
  },
  {
   "cell_type": "code",
   "execution_count": 14,
   "metadata": {},
   "outputs": [
    {
     "data": {
      "text/plain": [
       "561367.9"
      ]
     },
     "execution_count": 14,
     "metadata": {},
     "output_type": "execute_result"
    }
   ],
   "source": [
    "bw_k27.values(\"chr4\", 0, 1000000, numpy=True).sum()"
   ]
  }
 ],
 "metadata": {
  "kernelspec": {
   "display_name": "SAGAconf",
   "language": "python",
   "name": "python3"
  },
  "language_info": {
   "codemirror_mode": {
    "name": "ipython",
    "version": 3
   },
   "file_extension": ".py",
   "mimetype": "text/x-python",
   "name": "python",
   "nbconvert_exporter": "python",
   "pygments_lexer": "ipython3",
   "version": "3.9.15"
  },
  "orig_nbformat": 4
 },
 "nbformat": 4,
 "nbformat_minor": 2
}
