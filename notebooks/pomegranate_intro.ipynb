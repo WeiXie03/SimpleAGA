{
 "cells": [
  {
   "cell_type": "code",
   "execution_count": 12,
   "metadata": {},
   "outputs": [],
   "source": [
    "import numpy as np\n",
    "from pomegranate import *\n",
    "# from matplotlib import pyplot as plt"
   ]
  },
  {
   "cell_type": "code",
   "execution_count": 13,
   "metadata": {},
   "outputs": [
    {
     "ename": "TypeError",
     "evalue": "__cinit__() got an unexpected keyword argument 'covariance_type'",
     "output_type": "error",
     "traceback": [
      "\u001b[0;31m---------------------------------------------------------------------------\u001b[0m",
      "\u001b[0;31mTypeError\u001b[0m                                 Traceback (most recent call last)",
      "Cell \u001b[0;32mIn[13], line 1\u001b[0m\n\u001b[0;32m----> 1\u001b[0m d1 \u001b[39m=\u001b[39m MultivariateGaussianDistribution([\u001b[39m0.3\u001b[39;49m, \u001b[39m0.7\u001b[39;49m, \u001b[39m1.1\u001b[39;49m], [\u001b[39m1.1\u001b[39;49m, \u001b[39m0.3\u001b[39;49m, \u001b[39m1.8\u001b[39;49m], covariance_type\u001b[39m=\u001b[39;49m\u001b[39m'\u001b[39;49m\u001b[39mdiag\u001b[39;49m\u001b[39m'\u001b[39;49m)\n\u001b[1;32m      2\u001b[0m d1\n",
      "File \u001b[0;32m~/miniconda3/envs/SAGAconf/lib/python3.9/site-packages/pomegranate/distributions/MultivariateGaussianDistribution.pyx:41\u001b[0m, in \u001b[0;36mpomegranate.distributions.MultivariateGaussianDistribution.MultivariateGaussianDistribution.__cinit__\u001b[0;34m()\u001b[0m\n",
      "\u001b[0;31mTypeError\u001b[0m: __cinit__() got an unexpected keyword argument 'covariance_type'"
     ]
    }
   ],
   "source": [
    "d1 = IndependentComponentsDistribution()\n",
    "d1"
   ]
  }
 ],
 "metadata": {
  "kernelspec": {
   "display_name": "SAGAconf",
   "language": "python",
   "name": "python3"
  },
  "language_info": {
   "codemirror_mode": {
    "name": "ipython",
    "version": 3
   },
   "file_extension": ".py",
   "mimetype": "text/x-python",
   "name": "python",
   "nbconvert_exporter": "python",
   "pygments_lexer": "ipython3",
   "version": "3.9.15"
  },
  "orig_nbformat": 4
 },
 "nbformat": 4,
 "nbformat_minor": 2
}
