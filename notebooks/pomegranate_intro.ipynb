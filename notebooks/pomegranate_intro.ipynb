{
 "cells": [
  {
   "attachments": {},
   "cell_type": "markdown",
   "metadata": {},
   "source": [
    "Following [Pomegranate tutorial](https://pomegranate.readthedocs.io/en/latest/tutorials/B_Model_Tutorial_4_Hidden_Markov_Models.html)"
   ]
  },
  {
   "cell_type": "code",
   "execution_count": 1,
   "metadata": {},
   "outputs": [
    {
     "name": "stderr",
     "output_type": "stream",
     "text": [
      "/home/tom/miniconda3/envs/SAGAconf/lib/python3.9/site-packages/tqdm/auto.py:21: TqdmWarning: IProgress not found. Please update jupyter and ipywidgets. See https://ipywidgets.readthedocs.io/en/stable/user_install.html\n",
      "  from .autonotebook import tqdm as notebook_tqdm\n"
     ]
    }
   ],
   "source": [
    "import numpy as np\n",
    "import torch\n",
    "from pomegranate import *\n",
    "# from matplotlib import pyplot as plt"
   ]
  },
  {
   "cell_type": "code",
   "execution_count": 2,
   "metadata": {},
   "outputs": [
    {
     "name": "stdout",
     "output_type": "stream",
     "text": [
      "X:  (1, 51, 1)\n",
      "[[[1]\n",
      "  [2]\n",
      "  [0]\n",
      "  [1]\n",
      "  [3]\n",
      "  [0]\n",
      "  [1]\n",
      "  [3]\n",
      "  [2]\n",
      "  [0]\n",
      "  [1]\n",
      "  [3]\n",
      "  [0]\n",
      "  [1]\n",
      "  [3]\n",
      "  [1]\n",
      "  [2]\n",
      "  [1]\n",
      "  [1]\n",
      "  [2]\n",
      "  [0]\n",
      "  [1]\n",
      "  [2]\n",
      "  [1]\n",
      "  [2]\n",
      "  [0]\n",
      "  [1]\n",
      "  [3]\n",
      "  [2]\n",
      "  [1]\n",
      "  [1]\n",
      "  [2]\n",
      "  [3]\n",
      "  [1]\n",
      "  [3]\n",
      "  [0]\n",
      "  [3]\n",
      "  [0]\n",
      "  [1]\n",
      "  [3]\n",
      "  [2]\n",
      "  [1]\n",
      "  [2]\n",
      "  [1]\n",
      "  [0]\n",
      "  [3]\n",
      "  [0]\n",
      "  [1]\n",
      "  [2]\n",
      "  [2]\n",
      "  [1]]]\n"
     ]
    }
   ],
   "source": [
    "sequence = 'CGACTACTGACTACTCGCCGACGCGACTGCCGTCTATACTGCGCATACGGC'\n",
    "X = np.array([[[['A', 'C', 'G', 'T'].index(char)] for char in sequence]])\n",
    "print(\"X: \", X.shape)\n",
    "print(X)"
   ]
  },
  {
   "cell_type": "code",
   "execution_count": 3,
   "metadata": {},
   "outputs": [],
   "source": [
    "SEQ_LEN = 20"
   ]
  },
  {
   "attachments": {},
   "cell_type": "markdown",
   "metadata": {},
   "source": [
    "Deviations"
   ]
  },
  {
   "cell_type": "code",
   "execution_count": 4,
   "metadata": {},
   "outputs": [
    {
     "data": {
      "text/plain": [
       "tensor([[0.0758, 0.8415, 0.8249, 4.1123, 2.7568, 1.6167, 2.4916, 1.0518, 3.4067,\n",
       "         2.7360, 2.9641, 0.5943, 2.7017, 2.8463, 0.3534, 3.4694, 3.5917, 2.7192,\n",
       "         3.4238, 1.1663]])"
      ]
     },
     "execution_count": 4,
     "metadata": {},
     "output_type": "execute_result"
    }
   ],
   "source": [
    "devs = 5 * torch.rand(1, SEQ_LEN)\n",
    "devs"
   ]
  },
  {
   "attachments": {},
   "cell_type": "markdown",
   "metadata": {},
   "source": [
    "Means"
   ]
  },
  {
   "cell_type": "code",
   "execution_count": 34,
   "metadata": {},
   "outputs": [
    {
     "data": {
      "text/plain": [
       "tensor([88.9594,  4.7539,  3.7568, 53.8699, 64.6707, 40.4535, 34.5336,  4.6358,\n",
       "        12.7373,  2.8778, 99.6916, 48.6602, 79.5351, 63.9598, 83.2718, 66.0755,\n",
       "        89.7949, 76.1114, 37.9539, 17.8313])"
      ]
     },
     "execution_count": 34,
     "metadata": {},
     "output_type": "execute_result"
    }
   ],
   "source": [
    "means = 100 * (torch.rand(SEQ_LEN, 1).reshape(SEQ_LEN))\n",
    "means"
   ]
  },
  {
   "cell_type": "code",
   "execution_count": 35,
   "metadata": {},
   "outputs": [
    {
     "data": {
      "text/plain": [
       "tensor([ 89.5434,   4.3574,   0.6843,  54.0890,  65.0644,  40.7016,  33.6917,\n",
       "         -3.0840,  15.9637,   2.9518, 100.9461,  41.2846,  76.4859,  63.9647,\n",
       "         83.3161,  69.3621,  86.1599,  70.0809,  40.4581,  16.7364])"
      ]
     },
     "execution_count": 35,
     "metadata": {},
     "output_type": "execute_result"
    }
   ],
   "source": [
    "h3k4me3 = torch.normal(means, devs)\n",
    "h3k4me3"
   ]
  },
  {
   "cell_type": "code",
   "execution_count": 39,
   "metadata": {},
   "outputs": [
    {
     "data": {
      "text/plain": [
       "DenseHMM(\n",
       "  (start): Silent()\n",
       "  (end): Silent()\n",
       ")"
      ]
     },
     "execution_count": 39,
     "metadata": {},
     "output_type": "execute_result"
    }
   ],
   "source": [
    "from pomegranate.distributions import Normal\n",
    "from pomegranate.hmm import DenseHMM\n",
    "hmm = DenseHMM([Normal()] * SEQ_LEN, verbose=True)\n",
    "hmm"
   ]
  },
  {
   "cell_type": "code",
   "execution_count": 42,
   "metadata": {},
   "outputs": [
    {
     "ename": "ValueError",
     "evalue": "Parameter X must have 2 dims",
     "output_type": "error",
     "traceback": [
      "\u001b[0;31m---------------------------------------------------------------------------\u001b[0m",
      "\u001b[0;31mValueError\u001b[0m                                Traceback (most recent call last)",
      "Cell \u001b[0;32mIn[42], line 1\u001b[0m\n\u001b[0;32m----> 1\u001b[0m hmm\u001b[39m.\u001b[39;49mfit(h3k4me3)\n\u001b[1;32m      2\u001b[0m \u001b[39mfor\u001b[39;00m node \u001b[39min\u001b[39;00m hmm\u001b[39m.\u001b[39mdistributions:\n\u001b[1;32m      3\u001b[0m     \u001b[39mprint\u001b[39m(node)\n",
      "File \u001b[0;32m~/miniconda3/envs/SAGAconf/lib/python3.9/site-packages/pomegranate/hmm/_base.py:582\u001b[0m, in \u001b[0;36m_BaseHMM.fit\u001b[0;34m(self, X, sample_weight, priors)\u001b[0m\n\u001b[1;32m    520\u001b[0m \u001b[39mdef\u001b[39;00m \u001b[39mfit\u001b[39m(\u001b[39mself\u001b[39m, X, sample_weight\u001b[39m=\u001b[39m\u001b[39mNone\u001b[39;00m, priors\u001b[39m=\u001b[39m\u001b[39mNone\u001b[39;00m):\n\u001b[1;32m    521\u001b[0m \u001b[39m\t\u001b[39m\u001b[39m\"\"\"Fit the model to sequences with optional weights and priors.\u001b[39;00m\n\u001b[1;32m    522\u001b[0m \n\u001b[1;32m    523\u001b[0m \u001b[39m\tThis method implements the core of the learning process. For hidden\u001b[39;00m\n\u001b[0;32m   (...)\u001b[0m\n\u001b[1;32m    579\u001b[0m \u001b[39m\tself\u001b[39;00m\n\u001b[1;32m    580\u001b[0m \u001b[39m\t\"\"\"\u001b[39;00m\n\u001b[0;32m--> 582\u001b[0m \tX, sample_weight, priors \u001b[39m=\u001b[39m partition_sequences(X, \n\u001b[1;32m    583\u001b[0m \t\tsample_weight\u001b[39m=\u001b[39;49msample_weight, priors\u001b[39m=\u001b[39;49mpriors)\n\u001b[1;32m    585\u001b[0m \t\u001b[39m# Initialize by concatenating across sequences\u001b[39;00m\n\u001b[1;32m    586\u001b[0m \t\u001b[39mif\u001b[39;00m \u001b[39mnot\u001b[39;00m \u001b[39mself\u001b[39m\u001b[39m.\u001b[39m_initialized:\n",
      "File \u001b[0;32m~/miniconda3/envs/SAGAconf/lib/python3.9/site-packages/pomegranate/_utils.py:443\u001b[0m, in \u001b[0;36mpartition_sequences\u001b[0;34m(X, sample_weight, priors)\u001b[0m\n\u001b[1;32m    440\u001b[0m priors_dict \u001b[39m=\u001b[39m collections\u001b[39m.\u001b[39mdefaultdict(\u001b[39mlist\u001b[39m)\n\u001b[1;32m    442\u001b[0m \u001b[39mfor\u001b[39;00m i, x \u001b[39min\u001b[39;00m \u001b[39menumerate\u001b[39m(X):\n\u001b[0;32m--> 443\u001b[0m \tx \u001b[39m=\u001b[39m _check_parameter(x, \u001b[39m\"\u001b[39;49m\u001b[39mX\u001b[39;49m\u001b[39m\"\u001b[39;49m, ndim\u001b[39m=\u001b[39;49m\u001b[39m2\u001b[39;49m)\n\u001b[1;32m    444\u001b[0m \tn \u001b[39m=\u001b[39m \u001b[39mlen\u001b[39m(x)\n\u001b[1;32m    446\u001b[0m \tX_dict[n]\u001b[39m.\u001b[39mappend(x)\n",
      "File \u001b[0;32m~/miniconda3/envs/SAGAconf/lib/python3.9/site-packages/pomegranate/_utils.py:220\u001b[0m, in \u001b[0;36m_check_parameter\u001b[0;34m(parameter, name, min_value, max_value, value_sum, value_sum_dim, value_set, dtypes, ndim, shape, check_parameter, epsilon)\u001b[0m\n\u001b[1;32m    218\u001b[0m \u001b[39mif\u001b[39;00m \u001b[39misinstance\u001b[39m(ndim, \u001b[39mint\u001b[39m):\n\u001b[1;32m    219\u001b[0m \t\u001b[39mif\u001b[39;00m \u001b[39mlen\u001b[39m(parameter\u001b[39m.\u001b[39mshape) \u001b[39m!=\u001b[39m ndim:\n\u001b[0;32m--> 220\u001b[0m \t\t\u001b[39mraise\u001b[39;00m \u001b[39mValueError\u001b[39;00m(\u001b[39m\"\u001b[39m\u001b[39mParameter \u001b[39m\u001b[39m{}\u001b[39;00m\u001b[39m must have \u001b[39m\u001b[39m{}\u001b[39;00m\u001b[39m dims\u001b[39m\u001b[39m\"\u001b[39m\u001b[39m.\u001b[39mformat(\n\u001b[1;32m    221\u001b[0m \t\t\tname, ndim))\n\u001b[1;32m    222\u001b[0m \u001b[39melse\u001b[39;00m:\n\u001b[1;32m    223\u001b[0m \t\u001b[39mif\u001b[39;00m \u001b[39mlen\u001b[39m(parameter\u001b[39m.\u001b[39mshape) \u001b[39mnot\u001b[39;00m \u001b[39min\u001b[39;00m ndim:\n",
      "\u001b[0;31mValueError\u001b[0m: Parameter X must have 2 dims"
     ]
    }
   ],
   "source": [
    "hmm.fit(h3k4me3)\n",
    "for node in hmm.distributions:\n",
    "    print(node)"
   ]
  },
  {
   "cell_type": "code",
   "execution_count": 36,
   "metadata": {},
   "outputs": [
    {
     "data": {
      "text/plain": [
       "tensor([88.1742,  4.9616,  0.9904, 52.9784, 65.4905, 39.1773, 33.9875,  5.6228,\n",
       "        12.1969,  2.4487, 99.3737, 49.7558, 77.5732, 63.9789, 83.7520, 64.0095,\n",
       "        89.4957, 68.7929, 37.9740, 18.1841])"
      ]
     },
     "execution_count": 36,
     "metadata": {},
     "output_type": "execute_result"
    }
   ],
   "source": [
    "all_tracks = torch.distributions.MultivariateNormal(means, torch.diag(devs))\n",
    "all_tracks.sample()"
   ]
  }
 ],
 "metadata": {
  "kernelspec": {
   "display_name": "SAGAconf",
   "language": "python",
   "name": "python3"
  },
  "language_info": {
   "codemirror_mode": {
    "name": "ipython",
    "version": 3
   },
   "file_extension": ".py",
   "mimetype": "text/x-python",
   "name": "python",
   "nbconvert_exporter": "python",
   "pygments_lexer": "ipython3",
   "version": "3.9.15"
  },
  "orig_nbformat": 4
 },
 "nbformat": 4,
 "nbformat_minor": 2
}
