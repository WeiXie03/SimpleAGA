{
 "cells": [
  {
   "attachments": {},
   "cell_type": "markdown",
   "metadata": {},
   "source": [
    "# Preparing Signal Data for a HMM\n",
    "Using [__pyBedGraph__](https://github.com/TheJacksonLaboratory/pyBedGraph) to ...\n",
    "- convert raw signal data in a bedGraph into a mean signal value for each bin <-- bin size specified by user"
   ]
  },
  {
   "cell_type": "code",
   "execution_count": 2,
   "metadata": {},
   "outputs": [],
   "source": [
    "import numpy as np\n",
    "from pyBedGraph import BedGraph\n",
    "import pyBigWig\n",
    "from pathlib import Path"
   ]
  },
  {
   "cell_type": "code",
   "execution_count": 3,
   "metadata": {},
   "outputs": [],
   "source": [
    "DATA_DIR = Path().resolve().parent.parent / \"data\"\n",
    "SIZES_FILE_PATH = DATA_DIR / \"hg38.chrom.sizes\""
   ]
  },
  {
   "cell_type": "code",
   "execution_count": null,
   "metadata": {},
   "outputs": [],
   "source": [
    "BG_FILE_PATH = DATA_DIR / \"CD14-positive monocyte\" / \"H3K79me2\" / \"ENCFF676JWS.sorted.bedGraph\"\n",
    "monocyte_bg_k79 = BedGraph(SIZES_FILE_PATH, BG_FILE_PATH, [\"chr14\"])"
   ]
  },
  {
   "cell_type": "code",
   "execution_count": 5,
   "metadata": {},
   "outputs": [
    {
     "name": "stdout",
     "output_type": "stream",
     "text": [
      "True\n",
      "<class 'pyBigWig.bigWigFile'>\n",
      "48\n"
     ]
    }
   ],
   "source": [
    "import sys\n",
    "BW_FILE_PATH = DATA_DIR / \"CD14-positive monocyte\" / \"H3K79me2\" / \"ENCFF676JWS.bigWig\"\n",
    "print(BW_FILE_PATH.is_file())\n",
    "monocyte_bw_k79 = pyBigWig.open(str(BW_FILE_PATH.absolute()))\n",
    "print(type(monocyte_bw_k79))\n",
    "print(sys.getsizeof(monocyte_bw_k79))"
   ]
  },
  {
   "cell_type": "code",
   "execution_count": null,
   "metadata": {},
   "outputs": [],
   "source": [
    "BIN_SIZE = 1000\n",
    "#monocyte_bg_k79.chromosome_map[\"chr14\"]"
   ]
  },
  {
   "cell_type": "code",
   "execution_count": null,
   "metadata": {},
   "outputs": [],
   "source": [
    "# monocyte_bg_k79.load_chrom_data(\"chr1\")"
   ]
  },
  {
   "cell_type": "code",
   "execution_count": null,
   "metadata": {},
   "outputs": [],
   "source": [
    "monocyte_bg_k79.load_chrom_bins(\"chr14\", 1000)"
   ]
  },
  {
   "attachments": {},
   "cell_type": "markdown",
   "metadata": {},
   "source": [
    "Just checking numpy element-wise addition"
   ]
  },
  {
   "cell_type": "code",
   "execution_count": null,
   "metadata": {},
   "outputs": [],
   "source": [
    "v = np.arange(0, 10)\n",
    "print(v)\n",
    "print(v + 1)"
   ]
  },
  {
   "cell_type": "code",
   "execution_count": null,
   "metadata": {},
   "outputs": [],
   "source": [
    "starts = np.arange(300000, 2000000, 100*BIN_SIZE, dtype=np.int32)\n",
    "ends = starts + 10*BIN_SIZE\n",
    "print(\"starts:\", starts)\n",
    "print(\"ends:\", ends)"
   ]
  },
  {
   "cell_type": "code",
   "execution_count": null,
   "metadata": {},
   "outputs": [],
   "source": [
    "bin_means = monocyte_bg_k79.stats(start_list=starts, end_list=ends, chrom_name=\"chr1\")\n",
    "bin_means"
   ]
  },
  {
   "attachments": {},
   "cell_type": "markdown",
   "metadata": {},
   "source": [
    "# bigWig"
   ]
  },
  {
   "cell_type": "code",
   "execution_count": null,
   "metadata": {},
   "outputs": [],
   "source": [
    "chrom_sizes = monocyte_bw_k79.chroms()\n",
    "print(chrom_sizes.items())"
   ]
  },
  {
   "cell_type": "code",
   "execution_count": null,
   "metadata": {},
   "outputs": [],
   "source": [
    "print(chrom_sizes[\"chr1\"], \" divided into bins of size \", BIN_SIZE, \" is \", chrom_sizes[\"chr1\"] / BIN_SIZE, \" and leaves the last one with actually only \", chrom_sizes[\"chr1\"] % BIN_SIZE, \" bp\")\n",
    "last_bin_rem = chrom_sizes[\"chr1\"] % BIN_SIZE\n",
    "monocyte_bw_k79.stats(\"chr1\", chrom_sizes[\"chr1\"] - last_bin_rem, chrom_sizes[\"chr1\"]-1, type=\"sum\", exact=True)"
   ]
  },
  {
   "attachments": {},
   "cell_type": "markdown",
   "metadata": {},
   "source": [
    "Check that when `nBins` argument passed, bins where no data lands just return a 0 value bin instead of no element in the list at all"
   ]
  },
  {
   "cell_type": "code",
   "execution_count": null,
   "metadata": {},
   "outputs": [],
   "source": [
    "BIN_SIZE = 1000\n",
    "n_bins = chrom_sizes[\"chr1\"] // BIN_SIZE + 1\n",
    "all_means = monocyte_bw_k79.stats(\"chr1\", 0, chrom_sizes[\"chr1\"]-1, nBins=n_bins, type=\"mean\", exact=True)"
   ]
  },
  {
   "cell_type": "code",
   "execution_count": null,
   "metadata": {},
   "outputs": [],
   "source": [
    "# \\/ should be 0\n",
    "len(all_means) - all_means.count(None)"
   ]
  },
  {
   "cell_type": "code",
   "execution_count": null,
   "metadata": {},
   "outputs": [],
   "source": [
    "all_means[all_means.index(None) - 1:]"
   ]
  },
  {
   "cell_type": "code",
   "execution_count": null,
   "metadata": {},
   "outputs": [],
   "source": [
    "monocyte_bw_k79.intervals(\"chr1\", BIN_SIZE * (all_means.index(None)-1), chrom_sizes[\"chr1\"]-1)"
   ]
  },
  {
   "attachments": {},
   "cell_type": "markdown",
   "metadata": {},
   "source": [
    "First `None` mean at 284 947'th bin $\\implies$ really no gaps before 284 947'th bin?"
   ]
  },
  {
   "cell_type": "code",
   "execution_count": null,
   "metadata": {},
   "outputs": [],
   "source": [
    "all_means.index(0)"
   ]
  },
  {
   "cell_type": "code",
   "execution_count": null,
   "metadata": {},
   "outputs": [],
   "source": [
    "beforeNones_intervs = monocyte_bw_k79.intervals(\"chr1\", 0, BIN_SIZE * all_means.index(None))\n",
    "last_end = beforeNones_intervs[0][1]\n",
    "for start, end, val in beforeNones_intervs[1:]:\n",
    "    if  last_end + 1 -start:\n",
    "        print(\"start:\", start, \"last_end:\", last_end)\n",
    "    last_end = end"
   ]
  },
  {
   "cell_type": "code",
   "execution_count": null,
   "metadata": {},
   "outputs": [],
   "source": [
    "print(f\"length should be {n_bins}, is {len(all_means)}\")"
   ]
  },
  {
   "cell_type": "code",
   "execution_count": null,
   "metadata": {},
   "outputs": [],
   "source": [
    "print(\"so last bin mean should be \", monocyte_bw_k79.stats(\"chr1\", chrom_sizes[\"chr1\"] - last_bin_rem, chrom_sizes[\"chr1\"], type=\"sum\", exact=True)[0] / last_bin_rem)\n",
    "print(\"last bin mean is actually \", monocyte_bw_k79.stats(\"chr1\", chrom_sizes[\"chr1\"] - last_bin_rem, chrom_sizes[\"chr1\"], type=\"mean\")[0], exact=True)"
   ]
  },
  {
   "cell_type": "code",
   "execution_count": null,
   "metadata": {},
   "outputs": [],
   "source": [
    "np.cumsum([0] + list(chrom_sizes.values()))[:-1]"
   ]
  },
  {
   "cell_type": "code",
   "execution_count": null,
   "metadata": {},
   "outputs": [],
   "source": [
    "monocyte_bw_k79.stats(\"chr1\", nBins=int(n_bins), numpy=True)"
   ]
  }
 ],
 "metadata": {
  "kernelspec": {
   "display_name": "SAGAconf",
   "language": "python",
   "name": "python3"
  },
  "language_info": {
   "codemirror_mode": {
    "name": "ipython",
    "version": 3
   },
   "file_extension": ".py",
   "mimetype": "text/x-python",
   "name": "python",
   "nbconvert_exporter": "python",
   "pygments_lexer": "ipython3",
   "version": "3.9.15"
  },
  "orig_nbformat": 4
 },
 "nbformat": 4,
 "nbformat_minor": 2
}
