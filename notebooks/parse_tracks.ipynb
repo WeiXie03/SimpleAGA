{
 "cells": [
  {
   "attachments": {},
   "cell_type": "markdown",
   "metadata": {},
   "source": [
    "# Preparing Signal Data for a HMM\n",
    "Using [__pyBedGraph__](https://github.com/TheJacksonLaboratory/pyBedGraph) to ...\n",
    "- convert raw signal data in a bedGraph into a mean signal value for each bin <-- bin size specified by user"
   ]
  },
  {
   "cell_type": "code",
   "execution_count": 8,
   "metadata": {},
   "outputs": [],
   "source": [
    "import numpy as np\n",
    "from pyBedGraph import BedGraph\n",
    "import pyBigWig\n",
    "from pathlib import Path"
   ]
  },
  {
   "cell_type": "code",
   "execution_count": 9,
   "metadata": {},
   "outputs": [],
   "source": [
    "DATA_DIR = Path().resolve().parent.parent / \"data\"\n",
    "SIZES_FILE_PATH = DATA_DIR / \"hg38.chrom.sizes\""
   ]
  },
  {
   "cell_type": "code",
   "execution_count": 12,
   "metadata": {},
   "outputs": [
    {
     "ename": "KeyboardInterrupt",
     "evalue": "",
     "output_type": "error",
     "traceback": [
      "\u001b[0;31m---------------------------------------------------------------------------\u001b[0m",
      "\u001b[0;31mKeyboardInterrupt\u001b[0m                         Traceback (most recent call last)",
      "Cell \u001b[0;32mIn[12], line 2\u001b[0m\n\u001b[1;32m      1\u001b[0m BG_FILE_PATH \u001b[39m=\u001b[39m DATA_DIR \u001b[39m/\u001b[39m \u001b[39m\"\u001b[39m\u001b[39mCD14-positive monocyte\u001b[39m\u001b[39m\"\u001b[39m \u001b[39m/\u001b[39m \u001b[39m\"\u001b[39m\u001b[39mH3K79me2\u001b[39m\u001b[39m\"\u001b[39m \u001b[39m/\u001b[39m \u001b[39m\"\u001b[39m\u001b[39mENCFF676JWS.sorted.bedGraph\u001b[39m\u001b[39m\"\u001b[39m\n\u001b[0;32m----> 2\u001b[0m monocyte_bg_k79 \u001b[39m=\u001b[39m BedGraph(SIZES_FILE_PATH, BG_FILE_PATH, [\u001b[39m\"\u001b[39;49m\u001b[39mchr14\u001b[39;49m\u001b[39m\"\u001b[39;49m])\n",
      "File \u001b[0;32m~/miniconda3/envs/SAGAconf/lib/python3.9/site-packages/pyBedGraph/BedGraph.py:93\u001b[0m, in \u001b[0;36mBedGraph.__init__\u001b[0;34m(self, chrom_size_file_name, data_file_name, chroms_to_load, ignore_missing_bp, min_value, debug)\u001b[0m\n\u001b[1;32m     90\u001b[0m data \u001b[39m=\u001b[39m line\u001b[39m.\u001b[39msplit()\n\u001b[1;32m     91\u001b[0m chrom_name \u001b[39m=\u001b[39m data[CHROM_NAME_INDEX]\n\u001b[0;32m---> 93\u001b[0m \u001b[39mif\u001b[39;00m chrom_name \u001b[39mnot\u001b[39;00m \u001b[39min\u001b[39;00m \u001b[39mself\u001b[39;49m\u001b[39m.\u001b[39;49mchrom_sizes:\n\u001b[1;32m     94\u001b[0m     log\u001b[39m.\u001b[39mwarning(\n\u001b[1;32m     95\u001b[0m         \u001b[39mf\u001b[39m\u001b[39m\"\u001b[39m\u001b[39m{\u001b[39;00mchrom_name\u001b[39m}\u001b[39;00m\u001b[39m was not included in \u001b[39m\u001b[39m{\u001b[39;00mchrom_size_file\u001b[39m}\u001b[39;00m\u001b[39m\"\u001b[39m)\n\u001b[1;32m     96\u001b[0m     \u001b[39mcontinue\u001b[39;00m\n",
      "\u001b[0;31mKeyboardInterrupt\u001b[0m: "
     ]
    }
   ],
   "source": [
    "BG_FILE_PATH = DATA_DIR / \"CD14-positive monocyte\" / \"H3K79me2\" / \"ENCFF676JWS.sorted.bedGraph\"\n",
    "monocyte_bg_k79 = BedGraph(SIZES_FILE_PATH, BG_FILE_PATH, [\"chr14\"])"
   ]
  },
  {
   "cell_type": "code",
   "execution_count": 13,
   "metadata": {},
   "outputs": [
    {
     "name": "stdout",
     "output_type": "stream",
     "text": [
      "True\n",
      "<class 'pyBigWig.bigWigFile'>\n"
     ]
    }
   ],
   "source": [
    "BW_FILE_PATH = DATA_DIR / \"CD14-positive monocyte\" / \"H3K79me2\" / \"ENCFF676JWS.bigWig\"\n",
    "print(BW_FILE_PATH.is_file())\n",
    "monocyte_bw_k79 = pyBigWig.open(str(BW_FILE_PATH.absolute()))\n",
    "print(type(monocyte_bw_k79))"
   ]
  },
  {
   "cell_type": "code",
   "execution_count": 15,
   "metadata": {},
   "outputs": [],
   "source": [
    "BIN_SIZE = 1000\n",
    "#monocyte_bg_k79.chromosome_map[\"chr14\"]"
   ]
  },
  {
   "cell_type": "code",
   "execution_count": null,
   "metadata": {},
   "outputs": [],
   "source": [
    "# monocyte_bg_k79.load_chrom_data(\"chr1\")"
   ]
  },
  {
   "cell_type": "code",
   "execution_count": null,
   "metadata": {},
   "outputs": [
    {
     "ename": "KeyError",
     "evalue": "'chr14'",
     "output_type": "error",
     "traceback": [
      "\u001b[0;31m---------------------------------------------------------------------------\u001b[0m",
      "\u001b[0;31mKeyError\u001b[0m                                  Traceback (most recent call last)",
      "Cell \u001b[0;32mIn[9], line 1\u001b[0m\n\u001b[0;32m----> 1\u001b[0m monocyte_bg_k79\u001b[39m.\u001b[39;49mload_chrom_bins(\u001b[39m\"\u001b[39;49m\u001b[39mchr14\u001b[39;49m\u001b[39m\"\u001b[39;49m, \u001b[39m1000\u001b[39;49m)\n",
      "File \u001b[0;32m~/miniconda3/envs/SAGAconf/lib/python3.9/site-packages/pyBedGraph/BedGraph.py:221\u001b[0m, in \u001b[0;36mBedGraph.load_chrom_bins\u001b[0;34m(self, chrom_name, max_bins_size)\u001b[0m\n\u001b[1;32m    214\u001b[0m \u001b[39mdef\u001b[39;00m \u001b[39mload_chrom_bins\u001b[39m(\u001b[39mself\u001b[39m, chrom_name, max_bins_size):\n\u001b[1;32m    215\u001b[0m \u001b[39m    \u001b[39m\u001b[39m\"\"\"\u001b[39;00m\n\u001b[1;32m    216\u001b[0m \u001b[39m    Parameters\u001b[39;00m\n\u001b[1;32m    217\u001b[0m \u001b[39m    ----------\u001b[39;00m\n\u001b[1;32m    218\u001b[0m \u001b[39m    chrom_name : str\u001b[39;00m\n\u001b[1;32m    219\u001b[0m \u001b[39m        Name of chromosome to load bins\u001b[39;00m\n\u001b[1;32m    220\u001b[0m \u001b[39m    \"\"\"\u001b[39;00m\n\u001b[0;32m--> 221\u001b[0m     \u001b[39mself\u001b[39;49m\u001b[39m.\u001b[39;49mchromosome_map[chrom_name]\u001b[39m.\u001b[39mload_bins(max_bins_size)\n",
      "\u001b[0;31mKeyError\u001b[0m: 'chr14'"
     ]
    }
   ],
   "source": [
    "monocyte_bg_k79.load_chrom_bins(\"chr14\", 1000)"
   ]
  },
  {
   "attachments": {},
   "cell_type": "markdown",
   "metadata": {},
   "source": [
    "Just checking numpy element-wise addition"
   ]
  },
  {
   "cell_type": "code",
   "execution_count": 16,
   "metadata": {},
   "outputs": [
    {
     "name": "stdout",
     "output_type": "stream",
     "text": [
      "[0 1 2 3 4 5 6 7 8 9]\n",
      "[ 1  2  3  4  5  6  7  8  9 10]\n"
     ]
    }
   ],
   "source": [
    "v = np.arange(0, 10)\n",
    "print(v)\n",
    "print(v + 1)"
   ]
  },
  {
   "cell_type": "code",
   "execution_count": null,
   "metadata": {},
   "outputs": [
    {
     "name": "stdout",
     "output_type": "stream",
     "text": [
      "starts: [ 300000  400000  500000  600000  700000  800000  900000 1000000 1100000\n",
      " 1200000 1300000 1400000 1500000 1600000 1700000 1800000 1900000]\n",
      "ends: [ 310000  410000  510000  610000  710000  810000  910000 1010000 1110000\n",
      " 1210000 1310000 1410000 1510000 1610000 1710000 1810000 1910000]\n"
     ]
    }
   ],
   "source": [
    "starts = np.arange(300000, 2000000, 100*BIN_SIZE, dtype=np.int32)\n",
    "ends = starts + 10*BIN_SIZE\n",
    "print(\"starts:\", starts)\n",
    "print(\"ends:\", ends)"
   ]
  },
  {
   "cell_type": "code",
   "execution_count": null,
   "metadata": {},
   "outputs": [
    {
     "data": {
      "text/plain": [
       "array([0.22082   , 0.22082   , 0.22082   , 0.22082   , 0.22082   ,\n",
       "       0.22082   , 0.19897   , 0.22082   , 0.16183   , 0.22082   ,\n",
       "       0.26182728, 8.38443125, 0.22082   , 0.62931   , 0.22082   ,\n",
       "       6.25424   , 0.62931   ])"
      ]
     },
     "execution_count": 16,
     "metadata": {},
     "output_type": "execute_result"
    }
   ],
   "source": [
    "bin_means = monocyte_bg_k79.stats(start_list=starts, end_list=ends, chrom_name=\"chr1\")\n",
    "bin_means"
   ]
  },
  {
   "cell_type": "code",
   "execution_count": 17,
   "metadata": {},
   "outputs": [],
   "source": [
    "chrom_sizes = monocyte_bw_k79.chroms()\n",
    "n_bins = chrom_sizes[\"chr1\"] / 1000"
   ]
  },
  {
   "cell_type": "code",
   "execution_count": 18,
   "metadata": {},
   "outputs": [
    {
     "data": {
      "text/plain": [
       "array([         0,  248956422,  382753844,  517840466,  517940782,\n",
       "        651216091,  765580419,  872624137,  872825846,  873017315,\n",
       "        873228488,  873422538,  873460653,  873500208,  873673018,\n",
       "        873716757,  975707946,  976156194, 1066494539, 1068367298,\n",
       "       1151624739, 1151810330, 1152091169, 1152203720, 1232577005,\n",
       "       1291194621, 1291369676, 1291401708, 1291529390, 1291596250,\n",
       "       1291636426, 1291678636, 1291854679, 1291895424, 1291937141,\n",
       "       1534130670, 1598574837, 1645284820, 1696103288, 1696254042,\n",
       "       1696295585, 1696475357, 1696640407, 1696683218, 1696865138,\n",
       "       1696968976, 1697068351, 1697142336, 1697303807, 1697457606,\n",
       "       1895753165, 1895908562, 2086123117, 2086332826, 2267871085,\n",
       "       2267963774, 2438769753, 2598115726, 2743254362, 2881649079,\n",
       "       2881689141, 2881727195, 2881904040, 2881943090, 2881959659,\n",
       "       2882142555, 2882306794, 2882444512, 2882621120, 2882782267,\n",
       "       2882961465, 2883123267, 2883302960, 2883304432, 2883305633,\n",
       "       2883318032, 2883320308, 2883324724, 2883346200, 2883347852,\n",
       "       2883350551, 2883351577, 2883352698, 2883356228, 2883358031,\n",
       "       2883359021, 2883360319, 2883361627, 2883364273, 2883365452,\n",
       "       2883367597, 2883368958, 2883461941, 2883574446, 2883966507,\n",
       "       2883974499, 2883975732, 2883979652, 2883983707, 2883989060,\n",
       "       2883991011, 2883993329, 2883995744, 2884003871, 2884026560,\n",
       "       2884032921, 2884034221, 2884037474, 2884039660, 2884177786,\n",
       "       2884185428, 2884191102, 2884193270, 2884284579, 2884286132,\n",
       "       2884292636, 2884294036, 2884298549, 2884301518, 2884307676,\n",
       "       2884352150, 2884356835, 2884362631, 2884365672, 2884523104,\n",
       "       2884709843, 2884920501, 2885088973, 2885130864, 2885197350,\n",
       "       2885396085, 2885489406, 2885648165, 2885797015, 2885947757,\n",
       "       2885975502, 2886038446, 2886078637, 2886115360, 2886194950,\n",
       "       2886266201, 3042307096])"
      ]
     },
     "execution_count": 18,
     "metadata": {},
     "output_type": "execute_result"
    }
   ],
   "source": [
    "np.cumsum([0] + list(chrom_sizes.values()))[:-1]"
   ]
  },
  {
   "cell_type": "code",
   "execution_count": null,
   "metadata": {},
   "outputs": [
    {
     "data": {
      "text/plain": [
       "array([0.22081999, 0.22081999, 0.22081999, ...,        nan,        nan,\n",
       "              nan])"
      ]
     },
     "execution_count": 16,
     "metadata": {},
     "output_type": "execute_result"
    }
   ],
   "source": [
    "monocyte_bw_k79.stats(\"chr1\", nBins=int(n_bins), numpy=True)"
   ]
  },
  {
   "attachments": {},
   "cell_type": "markdown",
   "metadata": {},
   "source": [
    "# Filling in a Tensor"
   ]
  },
  {
   "cell_type": "code",
   "execution_count": null,
   "metadata": {},
   "outputs": [
    {
     "name": "stderr",
     "output_type": "stream",
     "text": [
      "/home/tom/miniconda3/envs/SAGAconf/lib/python3.9/site-packages/tqdm/auto.py:21: TqdmWarning: IProgress not found. Please update jupyter and ipywidgets. See https://ipywidgets.readthedocs.io/en/stable/user_install.html\n",
      "  from .autonotebook import tqdm as notebook_tqdm\n"
     ]
    },
    {
     "data": {
      "text/plain": [
       "tensor([[ 2.8885e+23,  4.5804e-41, -3.1665e+19],\n",
       "        [ 1.5085e+14,  4.2978e+23,  4.5804e-41],\n",
       "        [ 2.8885e+23,  4.5804e-41, -2.6754e-17],\n",
       "        [ 2.8527e-39,  4.2978e+23,  4.5804e-41],\n",
       "        [ 2.8886e+23,  4.5804e-41,  4.2604e+23],\n",
       "        [ 1.1916e+27,  4.4829e+23,  4.5804e-41],\n",
       "        [ 2.8886e+23,  4.5804e-41,  1.3579e+16],\n",
       "        [-1.8933e-13,  4.2979e+23,  4.5804e-41],\n",
       "        [ 2.8886e+23,  4.5804e-41,  5.7234e-12],\n",
       "        [ 2.1678e-33,  4.2979e+23,  4.5804e-41]])"
      ]
     },
     "execution_count": 1,
     "metadata": {},
     "output_type": "execute_result"
    }
   ],
   "source": [
    "import torch\n",
    "big_tab = torch.empty((10, 3))\n",
    "big_tab"
   ]
  },
  {
   "cell_type": "code",
   "execution_count": null,
   "metadata": {},
   "outputs": [
    {
     "data": {
      "text/plain": [
       "torch.Size([10, 3])"
      ]
     },
     "execution_count": 4,
     "metadata": {},
     "output_type": "execute_result"
    }
   ],
   "source": [
    "big_tab.shape"
   ]
  },
  {
   "cell_type": "code",
   "execution_count": null,
   "metadata": {},
   "outputs": [
    {
     "data": {
      "text/plain": [
       "10"
      ]
     },
     "execution_count": 5,
     "metadata": {},
     "output_type": "execute_result"
    }
   ],
   "source": [
    "big_tab.shape[0]"
   ]
  },
  {
   "cell_type": "code",
   "execution_count": null,
   "metadata": {},
   "outputs": [
    {
     "name": "stdout",
     "output_type": "stream",
     "text": [
      "tensor([[ 1.,  0., -1.],\n",
      "        [ 2.,  1.,  0.],\n",
      "        [ 3.,  2.,  1.],\n",
      "        [ 4.,  3.,  2.],\n",
      "        [ 5.,  4.,  3.],\n",
      "        [ 6.,  5.,  4.],\n",
      "        [ 7.,  6.,  5.],\n",
      "        [ 8.,  7.,  6.],\n",
      "        [ 9.,  8.,  7.],\n",
      "        [10.,  9.,  8.]])\n"
     ]
    }
   ],
   "source": [
    "for i in range(big_tab.shape[0]):\n",
    "    big_tab[i] = torch.tensor([i+1, i, i-1])\n",
    "print(big_tab)"
   ]
  }
 ],
 "metadata": {
  "kernelspec": {
   "display_name": "SAGAconf",
   "language": "python",
   "name": "python3"
  },
  "language_info": {
   "codemirror_mode": {
    "name": "ipython",
    "version": 3
   },
   "file_extension": ".py",
   "mimetype": "text/x-python",
   "name": "python",
   "nbconvert_exporter": "python",
   "pygments_lexer": "ipython3",
   "version": "3.9.15"
  },
  "orig_nbformat": 4
 },
 "nbformat": 4,
 "nbformat_minor": 2
}
