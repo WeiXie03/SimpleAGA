{
 "cells": [
  {
   "attachments": {},
   "cell_type": "markdown",
   "metadata": {},
   "source": [
    "# Preparing Signal Data for a HMM\n",
    "Using [__pyBedGraph__](https://github.com/TheJacksonLaboratory/pyBedGraph) to ...\n",
    "- convert raw signal data in a bedGraph into a mean signal value for each bin <-- bin size specified by user"
   ]
  },
  {
   "cell_type": "code",
   "execution_count": 1,
   "metadata": {},
   "outputs": [],
   "source": [
    "import numpy as np\n",
    "from pyBedGraph import BedGraph\n",
    "from pathlib import Path"
   ]
  },
  {
   "cell_type": "code",
   "execution_count": 2,
   "metadata": {},
   "outputs": [],
   "source": [
    "DATA_DIR = Path().resolve().parent.parent / \"data\"\n",
    "BG_FILE_PATH = DATA_DIR / \"CD14-positive monocyte\" / \"H3K79me2\" / \"ENCFF676JWS.sorted.bedGraph\"\n",
    "SIZES_FILE_PATH = DATA_DIR / \"hg38.chrom.sizes\"\n",
    "monocyte_bg_k79 = BedGraph(SIZES_FILE_PATH, BG_FILE_PATH, [\"chr1\"])"
   ]
  },
  {
   "cell_type": "code",
   "execution_count": 3,
   "metadata": {},
   "outputs": [],
   "source": [
    "monocyte_bg_k79.load_chrom_data(\"chr1\")"
   ]
  },
  {
   "cell_type": "code",
   "execution_count": 9,
   "metadata": {},
   "outputs": [
    {
     "data": {
      "text/plain": [
       "<pyBedGraph.Chrom_Data.Chrom_Data at 0x7f849c6c44f0>"
      ]
     },
     "execution_count": 9,
     "metadata": {},
     "output_type": "execute_result"
    }
   ],
   "source": [
    "BIN_SIZE = 1000\n",
    "monocyte_bg_k79.chromosome_map[\"chr1\"]"
   ]
  },
  {
   "cell_type": "code",
   "execution_count": 5,
   "metadata": {},
   "outputs": [],
   "source": [
    "# monocyte_bg_k79.load_chrom_bins(\"chr1\", BIN_SIZE)"
   ]
  },
  {
   "attachments": {},
   "cell_type": "markdown",
   "metadata": {},
   "source": [
    "Just checking numpy element-wise addition"
   ]
  },
  {
   "cell_type": "code",
   "execution_count": 6,
   "metadata": {},
   "outputs": [
    {
     "name": "stdout",
     "output_type": "stream",
     "text": [
      "[0 1 2 3 4 5 6 7 8 9]\n",
      "[ 1  2  3  4  5  6  7  8  9 10]\n"
     ]
    }
   ],
   "source": [
    "v = np.arange(0, 10)\n",
    "print(v)\n",
    "print(v + 1)"
   ]
  },
  {
   "cell_type": "code",
   "execution_count": 15,
   "metadata": {},
   "outputs": [
    {
     "name": "stdout",
     "output_type": "stream",
     "text": [
      "starts: [ 300000  400000  500000  600000  700000  800000  900000 1000000 1100000\n",
      " 1200000 1300000 1400000 1500000 1600000 1700000 1800000 1900000]\n",
      "ends: [ 310000  410000  510000  610000  710000  810000  910000 1010000 1110000\n",
      " 1210000 1310000 1410000 1510000 1610000 1710000 1810000 1910000]\n"
     ]
    }
   ],
   "source": [
    "starts = np.arange(300000, 2000000, 100*BIN_SIZE, dtype=np.int32)\n",
    "ends = starts + 10*BIN_SIZE\n",
    "print(\"starts:\", starts)\n",
    "print(\"ends:\", ends)"
   ]
  },
  {
   "cell_type": "code",
   "execution_count": 16,
   "metadata": {},
   "outputs": [
    {
     "data": {
      "text/plain": [
       "array([0.22082   , 0.22082   , 0.22082   , 0.22082   , 0.22082   ,\n",
       "       0.22082   , 0.19897   , 0.22082   , 0.16183   , 0.22082   ,\n",
       "       0.26182728, 8.38443125, 0.22082   , 0.62931   , 0.22082   ,\n",
       "       6.25424   , 0.62931   ])"
      ]
     },
     "execution_count": 16,
     "metadata": {},
     "output_type": "execute_result"
    }
   ],
   "source": [
    "bin_means = monocyte_bg_k79.stats(start_list=starts, end_list=ends, chrom_name=\"chr1\")\n",
    "bin_means"
   ]
  }
 ],
 "metadata": {
  "kernelspec": {
   "display_name": "SAGAconf",
   "language": "python",
   "name": "python3"
  },
  "language_info": {
   "codemirror_mode": {
    "name": "ipython",
    "version": 3
   },
   "file_extension": ".py",
   "mimetype": "text/x-python",
   "name": "python",
   "nbconvert_exporter": "python",
   "pygments_lexer": "ipython3",
   "version": "3.9.15"
  },
  "orig_nbformat": 4
 },
 "nbformat": 4,
 "nbformat_minor": 2
}
