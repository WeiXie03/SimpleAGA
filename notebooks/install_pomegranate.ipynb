{
 "cells": [
  {
   "cell_type": "code",
   "execution_count": 1,
   "metadata": {},
   "outputs": [],
   "source": [
    "import requests, json"
   ]
  },
  {
   "cell_type": "code",
   "execution_count": 3,
   "metadata": {},
   "outputs": [],
   "source": [
    "POM_PYPI_URL = \"https://pypi.org/pypi/pomegranate/json\"\n",
    "json = requests.get(POM_PYPI_URL.format(\"pandas\")).json()"
   ]
  },
  {
   "cell_type": "code",
   "execution_count": 4,
   "metadata": {},
   "outputs": [
    {
     "data": {
      "text/plain": [
       "['numpy (>=1.22.2)',\n",
       " 'scipy (>=1.6.2)',\n",
       " 'scikit-learn (>=1.0.2)',\n",
       " 'torch (>=1.9.0)',\n",
       " 'apricot-select (>=0.6.1)',\n",
       " 'networkx (>=2.8.4)']"
      ]
     },
     "execution_count": 4,
     "metadata": {},
     "output_type": "execute_result"
    }
   ],
   "source": [
    "json['info']['requires_dist']"
   ]
  }
 ],
 "metadata": {
  "kernelspec": {
   "display_name": "SAGAconf",
   "language": "python",
   "name": "python3"
  },
  "language_info": {
   "codemirror_mode": {
    "name": "ipython",
    "version": 3
   },
   "file_extension": ".py",
   "mimetype": "text/x-python",
   "name": "python",
   "nbconvert_exporter": "python",
   "pygments_lexer": "ipython3",
   "version": "3.9.15"
  },
  "orig_nbformat": 4
 },
 "nbformat": 4,
 "nbformat_minor": 2
}
